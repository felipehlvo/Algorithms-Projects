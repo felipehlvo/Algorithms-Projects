{
 "cells": [
  {
   "cell_type": "markdown",
   "metadata": {},
   "source": [
    "# CS110 Final Project"
   ]
  },
  {
   "cell_type": "markdown",
   "metadata": {},
   "source": [
    "## Description\n",
    "I want to create an application to find if a word or sentence is present in a text. Some of the uses for this application are (1) quickly searching for a word or sentence in a long text, (2) finding out what song contains a word or sentence you are looking for, (3) predicting the next word in a sentence (this one depends on the implementation). I will use and compare two strategies: a trie tree and a hash table. "
   ]
  },
  {
   "cell_type": "markdown",
   "metadata": {},
   "source": [
    "## Hash table approach\n",
    "There are several different kinds of hash tables. In this assignment, I will use both an implementation using chaining. My strategy will be to generate all possible sequences of words and store them in a hash table. There are other methods of building the same application, such as the Rabin-Karp algorithm, where none of the keys needs to be actually stored, we simply compute and compare the hash value of the word we are looking for with all substrings of the text of the same length. Here, however, I want a method that can find words in O(1) time, even if the construction of the hash table might take longer and occupy more space."
   ]
  },
  {
   "cell_type": "code",
   "execution_count": 1,
   "metadata": {
    "ExecuteTime": {
     "end_time": "2021-04-22T13:28:33.731395Z",
     "start_time": "2021-04-22T13:28:33.688509Z"
    }
   },
   "outputs": [],
   "source": [
    "import random\n",
    "import string\n",
    "\n",
    "def preprocess4(text):\n",
    "    \"\"\"\n",
    "    Returns all possible combination of contiguous words\n",
    "    \n",
    "    Parameters\n",
    "    -----------\n",
    "    text: str\n",
    "    \n",
    "    Output\n",
    "    -----------\n",
    "    all_subwords: lst\n",
    "        A list containing all possible sequences of contiguous words\n",
    "    \"\"\"\n",
    "    text = text.lower()\n",
    "    bad_chars = [\n",
    "        ';', ',', '.', '?', '!', '_',\n",
    "        '[', ']', ':', '“', '”', '\"', '–', '-', \"(\", \")\"\n",
    "    ]\n",
    "    just_text = ''.join(c for c in text if c not in bad_chars)\n",
    "    without_newlines = ''.join(c if (c not in ['\\n', '\\r', '\\t']) else \" \"\n",
    "                               for c in just_text)\n",
    "    just_text = ''.join(c for c in without_newlines if c not in bad_chars)\n",
    "    just_words = [word for word in just_text.split(\" \") if word != \"\"]\n",
    "    all_subwords = []\n",
    "    N = len(just_words)\n",
    "    for idx in range(N):\n",
    "        for end_idx in range(idx, N):\n",
    "            fragment = \" \".join(just_words[idx:end_idx+1])\n",
    "            all_subwords.append(fragment)\n",
    "            \n",
    "    return all_subwords\n",
    "\n",
    "def randomword(length):\n",
    "    \"\"\"\n",
    "    Returns a random word of the length specified\n",
    "    \"\"\"\n",
    "    return ''.join(random.choice(string.ascii_lowercase) for i in range(length))\n",
    "\n",
    "\n",
    "def empty_hash_table(N):\n",
    "    return [[] for n in range(N)]\n",
    "\n",
    "\n",
    "def add_to_hash_table(hash_table, item, hash_function):\n",
    "    \"\"\"\n",
    "    Adds a string to the specified hash table using a specified hash function.\n",
    "    \"\"\"\n",
    "    N = len(hash_table)\n",
    "    hash_ = hash_function(item)\n",
    "    resized_hash = hash_%N\n",
    "    hash_table[resized_hash].append(item)\n",
    "    return hash_table\n",
    "\n",
    "\n",
    "def contains(hash_table, item, hash_function):\n",
    "    N = len(hash_table)\n",
    "    hash_ = hash_function(item)\n",
    "    resized_hash = hash_%N\n",
    "    for i in hash_table[resized_hash]:\n",
    "        if i == item:\n",
    "            return True\n",
    "    return False\n",
    "    # return true if the item has already been stored in the hash_table\n",
    "\n",
    "\n",
    "def remove(hash_table, item, hash_function):\n",
    "    if not contains(hash_table, item, hash_function):\n",
    "        raise ValueError()\n",
    "    N = len(hash_table)\n",
    "    hash_ = hash_function(item)\n",
    "    resized_hash = hash_%N\n",
    "    for i in hash_table[resized_hash]:\n",
    "        if i == item:\n",
    "            del i\n",
    "    return hash_table\n",
    "\n",
    "\n",
    "# Hash Functions\n",
    "def hash_str1(string):\n",
    "    ans = 0\n",
    "    for chr in string:\n",
    "        ans += ord(chr)\n",
    "    return ans\n",
    "\n",
    "def hash_str2(string):\n",
    "    ans=int(ord(string[0]))\n",
    "    for ix in range(1, len(string)):\n",
    "        ans = ans ^ ord(string[ix]) \n",
    "    return int(bin(ans).split('b')[1])\n",
    "\n",
    "def hash_str3(string):\n",
    "    ans = 0\n",
    "    for chr in string:\n",
    "        ans = ans * 33 + ord(chr) # changed from 128 to 33 because 33 is prime.\n",
    "    return ans\n",
    "\n",
    "def hash_str4(string):\n",
    "    random.seed(ord(string[0]))\n",
    "    return random.getrandbits(32)"
   ]
  },
  {
   "cell_type": "markdown",
   "metadata": {},
   "source": [
    "### Hash Table considerations\n",
    "An important consideration in the size of the hash table. Ideally, the size should be big enough to avoid collisions. The time it takes to lookup an key depends on the load factor $\\alpha$. In an implementation with chaining, the average-case time is $\\Theta (1 + \\alpha)$, so it is important to keep the load factor smaller than 1 in order to maintain $O(1)$ lookup time. Furthermore, the size of the table should be a prime number, because when we take the modulus of the hash value to find the corresponding index in the table, we want to prevent that any uneven distribution in the keys might cause some spots to be filled more than others. Even numbers, especially a power of 2, are bad because often the distribution of keys follow a power of 2 pattern due to the binary system used by most computers. This would generate the same indexes for many different inputs, creating collisions. So, as a rule of thumb, I will use for the table size the first prime number such that my keys occupy at most 75% of the table capacity.\n",
    "\n",
    "Note: Finding a big prime is computationally expensive, so, unless specified by the user, I will use the first odd (not necessarily prime) number that guarantees the 75% rule."
   ]
  },
  {
   "cell_type": "markdown",
   "metadata": {},
   "source": [
    "### Hash Function considerations\n",
    "I want a hash function that distributes the keys evenly between the slots of the table, in order to avoid collisions as much as possible, as they hinder our O(1) time complexity. To chose a good hash function, I will plot their hash distribution for a random set of words and for a set of sentence fragments taken from a speech, to make sure the hash function deals well with strings of varying size and with letters occurring in different frequencies. "
   ]
  },
  {
   "cell_type": "code",
   "execution_count": 2,
   "metadata": {
    "ExecuteTime": {
     "end_time": "2021-04-22T13:28:34.706196Z",
     "start_time": "2021-04-22T13:28:33.735384Z"
    }
   },
   "outputs": [],
   "source": [
    "import matplotlib.pyplot as plt\n",
    "def plot_distribution(hash_function, words, len_table):\n",
    "    \"\"\"\n",
    "    Plots the distribution of hash values for a specified hash function\n",
    "    \n",
    "    Parameters\n",
    "    -----------\n",
    "    hash_function: function\n",
    "    \n",
    "    words: lst\n",
    "        A lst containing strings \n",
    "    \n",
    "    len_table: int\n",
    "        The size of the simulated hash table\n",
    "    \n",
    "    \"\"\"\n",
    "    plt.figure()\n",
    "    lst = [hash_function(word)%len_table for word in words]\n",
    "    plt.hist(lst, bins = len_table)\n",
    "    plt.ylabel(\"Collisions\")\n",
    "    plt.xlabel(\"Slot\")\n"
   ]
  },
  {
   "cell_type": "code",
   "execution_count": 3,
   "metadata": {
    "ExecuteTime": {
     "end_time": "2021-04-22T13:28:46.263501Z",
     "start_time": "2021-04-22T13:28:34.709189Z"
    }
   },
   "outputs": [
    {
     "data": {
      "image/png": "[encoded data removed]",
      "text/plain": [
       "<Figure size 432x288 with 1 Axes>"
      ]
     },
     "metadata": {
      "needs_background": "light"
     },
     "output_type": "display_data"
    },
    {
     "data": {
      "image/png": "[encoded data removed]",
      "text/plain": [
       "<Figure size 432x288 with 1 Axes>"
      ]
     },
     "metadata": {
      "needs_background": "light"
     },
     "output_type": "display_data"
    },
    {
     "data": {
      "image/png": "[encoded data removed]",
      "text/plain": [
       "<Figure size 432x288 with 1 Axes>"
      ]
     },
     "metadata": {
      "needs_background": "light"
     },
     "output_type": "display_data"
    },
    {
     "data": {
      "image/png": "[encoded data removed]",
      "text/plain": [
       "<Figure size 432x288 with 1 Axes>"
      ]
     },
     "metadata": {
      "needs_background": "light"
     },
     "output_type": "display_data"
    },
    {
     "data": {
      "image/png": "[encoded data removed]",
      "text/plain": [
       "<Figure size 432x288 with 1 Axes>"
      ]
     },
     "metadata": {
      "needs_background": "light"
     },
     "output_type": "display_data"
    }
   ],
   "source": [
    "random_words = [randomword(10) for i in range(10000)]\n",
    "plot_distribution(hash_str1, random_words, 1271)    \n",
    "plot_distribution(hash_str2, random_words, 1271)  \n",
    "plot_distribution(hash_str3, random_words, 1271)  \n",
    "plot_distribution(hash_str4, random_words, 1271)  \n",
    "plot_distribution(hash, random_words, 1271) # built-in Python hash function"
   ]
  },
  {
   "cell_type": "markdown",
   "metadata": {},
   "source": [
    "Clearly hash_str3 and the built-in function hash perform the best with random words. Let's test them with natural language text."
   ]
  },
  {
   "cell_type": "code",
   "execution_count": 4,
   "metadata": {
    "ExecuteTime": {
     "end_time": "2021-04-22T13:28:56.244536Z",
     "start_time": "2021-04-22T13:28:46.266511Z"
    }
   },
   "outputs": [
    {
     "data": {
      "image/png": "[encoded data removed]",
      "text/plain": [
       "<Figure size 432x288 with 1 Axes>"
      ]
     },
     "metadata": {
      "needs_background": "light"
     },
     "output_type": "display_data"
    },
    {
     "data": {
      "image/png": "[encoded data removed]",
      "text/plain": [
       "<Figure size 432x288 with 1 Axes>"
      ]
     },
     "metadata": {
      "needs_background": "light"
     },
     "output_type": "display_data"
    }
   ],
   "source": [
    "from requests import get\n",
    "thunberg = get('https://bit.ly/CS110-Thunberg').text # Greta Thunberg - UN\n",
    "all_subwords = preprocess4(thunberg)\n",
    "random.shuffle(all_subwords)\n",
    "plot_distribution(hash_str3, all_subwords[:10000], 1009)  \n",
    "plot_distribution(hash, all_subwords[:10000], 1009) # built-in Python hash function"
   ]
  },
  {
   "cell_type": "markdown",
   "metadata": {},
   "source": [
    "They have nearly the same performance, which assures me I can use hash_str3 with confidence it will produce next to the minimum amount of collisions. The distribution is far from being even, but no hash function can produce perfect results."
   ]
  },
  {
   "cell_type": "markdown",
   "metadata": {},
   "source": [
    "### Strategy\n",
    "I will store all combinations of contiguous words into a hash table. Then, to find if a word or sentence is present in the text, I simply need to look up the word or sentence using its hash value. If the lookup is successful, the word or sentence is present. If not, it isn't."
   ]
  },
  {
   "cell_type": "code",
   "execution_count": 5,
   "metadata": {
    "ExecuteTime": {
     "end_time": "2021-04-22T13:28:56.291412Z",
     "start_time": "2021-04-22T13:28:56.247528Z"
    }
   },
   "outputs": [],
   "source": [
    "from tqdm import tqdm\n",
    "\n",
    "def preprocess(text):\n",
    "    \"\"\"\n",
    "    Returns the text without spaces and special characters\n",
    "    \"\"\"\n",
    "    text = text.lower()\n",
    "    bad_chars = [\n",
    "    ';', ',', '.', '?', '!', '_',\n",
    "    '[', ']', ':', '“', '”', '\"', '–', '-', \"(\", \")\"\n",
    "    ]\n",
    "    just_text = ''.join(c for c in text if c not in bad_chars)\n",
    "    without_newlines = ''.join(c if (c not in ['\\n', '\\r', '\\t']) else \" \"\n",
    "                               for c in just_text)\n",
    "    just_text = ''.join(c for c in without_newlines if (c not in bad_chars))\n",
    "    return just_text\n",
    "\n",
    "def store(hash_table, items, hash_function):\n",
    "    \"\"\"\n",
    "    Stores all items of a list in a hash table\n",
    "    \"\"\"\n",
    "    for item in items:\n",
    "        add_to_hash_table(hash_table, item, hash_function)\n",
    "\n",
    "\n",
    "def calculate_table_size(preprocessed_text):\n",
    "    \"\"\"\n",
    "    Returns the first odd number that ensures keys \n",
    "    will occupy at most 75% of the hash table capacity\n",
    "    \"\"\"\n",
    "    # making keys fit in 75% of the table\n",
    "    size = round((len(preprocessed_text)/0.75))\n",
    "    \n",
    "    #making sure table size is an odd number\n",
    "    if size % 2 == 0:\n",
    "        size += 1\n",
    "        \n",
    "    return size\n",
    "    \n",
    "def hash_preprocess(text, table_size = None):\n",
    "    \"\"\"\n",
    "    Does the necessary preprocessing for the algorithm\n",
    "    \"\"\"\n",
    "    \n",
    "    # finding all subwords\n",
    "    all_subwords = preprocess4(text)\n",
    "    \n",
    "    if not table_size:\n",
    "        table_size = calculate_table_size(all_subwords)\n",
    "    \n",
    "    # making empty hash table\n",
    "    table = empty_hash_table(table_size)\n",
    "    \n",
    "    # storing all subwords\n",
    "    store(table, all_subwords, hash_str3)\n",
    "    \n",
    "    return table\n",
    "\n",
    "\n",
    "\n",
    "def hash_sentence_finder(preprocessed_text, sentence):\n",
    "    \"\"\"\n",
    "    Looks for a word or sentence in a text. Returns true if it is in the text, False, if it isn't.\n",
    "    \"\"\"\n",
    "    # removing special characters\n",
    "    sentence = preprocess(sentence)\n",
    "\n",
    "    return contains(preprocessed_text, sentence, hash_str3)\n",
    "\n"
   ]
  },
  {
   "cell_type": "code",
   "execution_count": 6,
   "metadata": {
    "ExecuteTime": {
     "end_time": "2021-04-22T13:28:56.306370Z",
     "start_time": "2021-04-22T13:28:56.300386Z"
    }
   },
   "outputs": [],
   "source": [
    "text = \"This is a text\"\n",
    "new_text = hash_preprocess(text, table_size = 19)\n",
    "\n",
    "assert hash_sentence_finder(new_text, \"text\") == True # finds words\n",
    "assert hash_sentence_finder(new_text, \"tex\") == False # but not incomplete words\n",
    "assert hash_sentence_finder(new_text, \"is a text\") == True # finds sentences\n",
    "assert hash_sentence_finder(new_text, \"Th?!is iS?\") == True # ignores special characters\n",
    "assert hash_sentence_finder(new_text, \"is text\") == False  # words are in text, but not in the correct order\n",
    "assert hash_sentence_finder(new_text, \"\") == False # edge case, empty string\n"
   ]
  },
  {
   "cell_type": "code",
   "execution_count": 7,
   "metadata": {
    "ExecuteTime": {
     "end_time": "2021-04-22T13:29:53.462829Z",
     "start_time": "2021-04-22T13:28:56.310361Z"
    }
   },
   "outputs": [],
   "source": [
    "preprocessed_thunberg = hash_preprocess(thunberg) # it takes a while\n",
    "assert hash_sentence_finder(preprocessed_thunberg,\"i should be\") == True \n",
    "assert hash_sentence_finder(preprocessed_thunberg,\"shoul\") == False\n",
    "assert hash_sentence_finder(preprocessed_thunberg,\n",
    "                            \"You have stolen my dreams and my childhood with your empty words. And yet I'm one of the lucky ones. People are suffering. People are dying. Entire ecosystems are collapsing. We are in the beginning of a mass extinction, and all you can talk about is money and fairy tales of eternal economic growth. How dare you!\"\n",
    "                           ) == True  # Long sentence!"
   ]
  },
  {
   "cell_type": "markdown",
   "metadata": {},
   "source": [
    "In my tests, I include the normal usage of the function as well as edge cases, such as empty strings, to test if the algorithm is robust. I demonstrate that it is capable of finding individual words and sentences, dealing with special characters and capitalization, and that it does not find incomplete words. I then use the algorithm in a long text, which is the expected use case, demonstrating it still works."
   ]
  },
  {
   "cell_type": "markdown",
   "metadata": {},
   "source": [
    "## Trie Tree Approach\n",
    "\n",
    "I will modify the trie tree used in the last assignment so that it can store sentences. Just like the hash table approach, I will store all possible combinations of contiguous words. To do so, we first preprocess the text to generate substrings that start at different words. For example, if the text is \"My lovely cat\", the preprocessed text will be a list containing [\"my lovely cat\", \"lovely cat\", \"cat\"]. We do this to ensure that the search can be done starting at any word in the text. \n",
    "The tree then stores each character of the sentence in a different node, where the child of each node is the next character in the sentence. We mark the characters that represent the end of each word so that we distinguish prefixes from full words from full sentences."
   ]
  },
  {
   "cell_type": "code",
   "execution_count": 8,
   "metadata": {
    "ExecuteTime": {
     "end_time": "2021-04-22T13:29:53.494192Z",
     "start_time": "2021-04-22T13:29:53.465267Z"
    }
   },
   "outputs": [],
   "source": [
    "class Node:\n",
    "    \"\"\"This class represents one node of a trie tree.\n",
    "    \n",
    "    Parameters\n",
    "    ----------\n",
    "    \n",
    "    char: str\n",
    "        the character stored in the node\n",
    "    children: list\n",
    "        the children nodes\n",
    "    end_of_word : boolean\n",
    "        signals if the node is at the end of a word\n",
    "    \"\"\"\n",
    "    def __init__(self, char=None, parent=None):\n",
    "        self.char = char  # character stored in the node\n",
    "        self.children = []  # list containing the children nodes\n",
    "        self.end_of_word = False  # signal if node is the end of a valid word\n",
    "        self.beg_of_word = False # # signal if node is the beginning of a valid word\n",
    "        self.reps = 0 # how many times the word occurs\n",
    "\n",
    "\n",
    "class Trie:\n",
    "    \"\"\"This class represents the entirety of a trie tree.\n",
    "    \n",
    "    Parameters\n",
    "    ----------\n",
    "    The parameters for Trie's __init__ are not predetermined.\n",
    "    However, you will likely need one or more of them.    \n",
    "    \n",
    "    Methods\n",
    "    -------\n",
    "    insert(self, word)\n",
    "        Inserts a word into the trie, creating nodes as required.\n",
    "    lookup(self, word)\n",
    "        Determines whether a given word is present in the trie.\n",
    "    \"\"\"\n",
    "    def __init__(self, words_list=None):\n",
    "        \"\"\"Creates the Trie instance, inserts initial words if provided.\n",
    "        \n",
    "        Parameters\n",
    "        ----------\n",
    "        word_list : list\n",
    "            List of strings to be inserted into the trie upon creation.\n",
    "        \"\"\"\n",
    "        self.root = Node()  # creates an empty root\n",
    "        \n",
    "        if words_list:\n",
    "            for words in words_list:\n",
    "                self.insert(words)\n",
    "    \n",
    "        \n",
    "    def insert(self, words: str):\n",
    "        \"\"\"Inserts a word into the trie, creating missing nodes on the go.\n",
    "        \n",
    "        Parameters\n",
    "        ----------\n",
    "        word : str\n",
    "            The word to be inserted into the trie.\n",
    "        \"\"\"\n",
    "        cur_node = self.root\n",
    "        for word in words:\n",
    "            word = word.lower()  # convert word to lowercase\n",
    "            for letter in word:\n",
    "                # check is the character is already in the children of current node\n",
    "                is_in_children = False\n",
    "                for child in cur_node.children:\n",
    "\n",
    "                    # if it is, assign the current character to the child containing the character\n",
    "                    if child.char == letter:\n",
    "                        cur_node = child\n",
    "                        is_in_children = True\n",
    "                        break\n",
    "\n",
    "                # if not, create a new child with that character\n",
    "                if is_in_children == False:\n",
    "                    new_node = Node(char=letter, parent=cur_node)\n",
    "                    cur_node.children.append(new_node)\n",
    "                    cur_node.children = sorted(cur_node.children,\n",
    "                                               key=lambda x: x.char)\n",
    "                    cur_node = new_node\n",
    "        \n",
    "            cur_node.reps += 1 # adds oe to te number of occurences of the word\n",
    "            cur_node.end_of_word = True  # signal that this is the last node of a complete word\n",
    "\n",
    "    def lookup(self, word: str):\n",
    "        \"\"\"Determines whether a given word is present in the trie.\n",
    "        \n",
    "        Parameters\n",
    "        ----------\n",
    "        word : str\n",
    "            The word to be looked-up in the trie.\n",
    "            \n",
    "        Returns\n",
    "        -------\n",
    "        bool\n",
    "            True if the word is present in trie; False otherwise.\n",
    "            \n",
    "        Notes\n",
    "        -----\n",
    "        Your trie should ignore whether a word is capitalized.\n",
    "        E.g. trie.insert('Prague') should lead to trie.lookup('prague') = True\n",
    "        \"\"\"\n",
    "        word = preprocess(word)\n",
    "        word = word.lower()\n",
    "        cur_node = self.root \n",
    "        for letter in word: \n",
    "            \n",
    "            # check if the character is already in the children of current node\n",
    "            is_in_children = False\n",
    "            for child in cur_node.children:\n",
    "                # if it is, assign the current node to the child containing the character\n",
    "                if child.char == letter:\n",
    "                    cur_node = child\n",
    "                    is_in_children = True\n",
    "            # if not, return false\n",
    "            if is_in_children == False:\n",
    "                return False\n",
    "        \n",
    "        # returns False if the word is just a prefix, returns True if it's a valid word\n",
    "        return cur_node.end_of_word "
   ]
  },
  {
   "cell_type": "code",
   "execution_count": 9,
   "metadata": {
    "ExecuteTime": {
     "end_time": "2021-04-22T13:29:53.526105Z",
     "start_time": "2021-04-22T13:29:53.498181Z"
    }
   },
   "outputs": [],
   "source": [
    "def preprocess3(text, size = 10):\n",
    "    bad_chars = [\n",
    "        ';', ',', '.', '?', '!', '_',\n",
    "        '[', ']', ':', '“', '”', '\"', '–', '-', \"(\", \")\"\n",
    "    ]\n",
    "    just_text = ''.join(c for c in text if c not in bad_chars)\n",
    "    without_newlines = ''.join(c if (c not in ['\\n', '\\r', '\\t']) else \" \"\n",
    "                               for c in just_text)\n",
    "    just_text = ''.join(c for c in without_newlines if c not in bad_chars)\n",
    "    just_words = [word for word in just_text.split(\" \") if word != \"\"]\n",
    "    all_subwords = []\n",
    "    N = len(just_words)\n",
    "    for idx in range(N):\n",
    "        fragment = [\" \" + i for i in just_words[idx:min(idx + size, N+1)]]\n",
    "        fragment[0] = fragment[0][1:]\n",
    "        all_subwords.append(fragment)\n",
    "            \n",
    "    return all_subwords\n",
    "\n",
    "def trie_preprocess(text):\n",
    "    all_subwords = preprocess3(text, len(text))\n",
    "    trie = Trie(all_subwords)\n",
    "    return trie\n",
    "\n",
    "def trie_sentence_finder(preprocessed_text, sentence):\n",
    "    sentence = preprocess(sentence)\n",
    "    return preprocessed_text.lookup(sentence)"
   ]
  },
  {
   "cell_type": "code",
   "execution_count": 10,
   "metadata": {
    "ExecuteTime": {
     "end_time": "2021-04-22T13:29:53.542062Z",
     "start_time": "2021-04-22T13:29:53.530095Z"
    }
   },
   "outputs": [],
   "source": [
    "preprocessed_text = trie_preprocess(\"This is a text\")\n",
    "\n",
    "\n",
    "assert trie_sentence_finder(preprocessed_text,\"text\") == True # finds words\n",
    "assert trie_sentence_finder(preprocessed_text,\"tex\") == False # but not incomplete words\n",
    "assert trie_sentence_finder(preprocessed_text,\"is a text\") == True # finds sentences\n",
    "assert trie_sentence_finder(preprocessed_text,\"Th?!is iS?\") == True # ignores special characters\n",
    "assert trie_sentence_finder(preprocessed_text,\"is text\") == False  # words are in text, but not in the correct order\n",
    "assert trie_sentence_finder(preprocessed_text,\"\") == False # edge case, empty string"
   ]
  },
  {
   "cell_type": "code",
   "execution_count": 11,
   "metadata": {
    "ExecuteTime": {
     "end_time": "2021-04-22T13:29:56.715856Z",
     "start_time": "2021-04-22T13:29:53.546053Z"
    }
   },
   "outputs": [],
   "source": [
    "preprocessed_thunberg = trie_preprocess(thunberg)\n",
    "assert trie_sentence_finder(preprocessed_thunberg,\"i should be\") == True \n",
    "assert trie_sentence_finder(preprocessed_thunberg,\"shoul\") == False\n",
    "assert trie_sentence_finder(preprocessed_thunberg,\n",
    "                            \"You have stolen my dreams and my childhood with your empty words. And yet I'm one of the lucky ones. People are suffering. People are dying. Entire ecosystems are collapsing. We are in the beginning of a mass extinction, and all you can talk about is money and fairy tales of eternal economic growth. How dare you!\"\n",
    "                           ) == True  # Long sentence!\n"
   ]
  },
  {
   "cell_type": "markdown",
   "metadata": {},
   "source": [
    "I use the same test cases as before to demonstrate both algorithms behave the same way."
   ]
  },
  {
   "cell_type": "markdown",
   "metadata": {},
   "source": [
    "## Comparing the approaches"
   ]
  },
  {
   "cell_type": "markdown",
   "metadata": {},
   "source": [
    "### Time complexity\n",
    "\n",
    "#### Hash table\n",
    "\n",
    "With our current implementation, there are 2 main steps that the algorithm takes. First, it preprocesses and inserts the text into the hash table. This step can be divided in two parts, as following:\n",
    "1. First, we need to preprocess the text. There are $\\frac{N(N+1)}{2}$ combinations of contiguous words, where $N$ is the number of words in the text, and the algorithm takes a fixed amount of time to slice each sentence and add them to a list. The time complexity of creating an empty hash table is proportional on the number of items so we can express both with a time complexity of $O(n^2)$.\n",
    "2. We need to calculate the hash of each of these sentences and include them in the hash table. For each of the $\\frac{N(N+1)}{2}$ items, we need to iterate through each character. So, the time complexity of the calculating the hash is $O(n^2 \\cdot m)$, where m is the average length of each sentence, which in turn is around half of the text length (it is actually a bit smaller because of spaces). If $m = N/2$, the time complexity becomes $O(n^2 \\cdot n/2) = O(n^3)$. Inserting the item in the table takes a constant time, as we already have the its position calculated. \n",
    "\n",
    "Overall, the time complexity of the 'preparation' part is $O(n^2 + n^3) = O(n^3)$.\n",
    "\n",
    "The next step for the algorithm is to lookup a sentence. For that, we need to calculate the hash value of the sentence, which takes $O(s)$, where s is the length of the sentence. The lookup part depends on the load factor, but since we are using a load factor smaller than 1, the average time of the lookup will be $O(1)$. The worst time complexity is $O(n^2)$, but it is extremely unlikely to happen. Overall, the average time complexity for the lookup part of the algorithm is $O(s + 1) = O(s)$. \n",
    "\n",
    "Note: In this implementation, the lookup algorithm also preprocesses the sentence before actually looking for it. The preprocessing part also has $O(s)$ scaling behavior.\n",
    "\n",
    "#### Trie Trees\n",
    "\n",
    "Just like the hash table, there are 2 main steps that the trie tree algorithm takes. First, it preprocesses and inserts the text into the trie tree. There are $\\frac{N(N+1)}{2}$ combinations of contiguous words, where $N$ is the number of words in the text. However, unlike the hash table, we don't need to insert all possible combinations, since we mark the ending of each word. We actually only make N insertions, each of a sentence starting at a different word of the text. Inserting each sentence takes $O(m)$ time, where m is the length of the sentence. \n",
    "\n",
    "As discussed before, $m = N/2$, so the overall preprocessing takes $O(N \\cdot m) = O(N \\cdot N/2) = O(N^2).$ \n",
    "\n",
    "\n",
    "The next step for the algorithm is to lookup a sentence. Paraphrasing my previous assignment: we can check the existence of each character of the sentence O(1) time, because moving to the next node (if the character is already in the children) takes a fixed number of steps; they don't depend on the characteristics of the tree. Searching for a character in the current children of a node depends on the number of possible characters in our word bank. Still, if we assume a fixed number of characters (the English alphabet, for example), this operation will make at most the number of iterations as there are letters in our alphabet, which we can write as O(1). \n",
    "\n",
    "So, we have for lookup(): O(1) * s = $O(s)$, where s is the length of the sentence.\n",
    "\n",
    "Note: In this implementation, the lookup algorithm also preprocesses the sentence before actually looking for it. The preprocessing part also hash $O(s)$ scaling behavior."
   ]
  },
  {
   "cell_type": "markdown",
   "metadata": {},
   "source": [
    "### Empirical analysis\n",
    "\n",
    "#### Hash table\n",
    "##### Preprocessing"
   ]
  },
  {
   "cell_type": "code",
   "execution_count": 12,
   "metadata": {
    "ExecuteTime": {
     "end_time": "2021-04-22T13:29:56.730839Z",
     "start_time": "2021-04-22T13:29:56.717874Z"
    }
   },
   "outputs": [],
   "source": [
    "import time\n",
    "def random_sentence(n_words, word_length):\n",
    "    \"\"\"\n",
    "    Generates multiple random words and puts them into a text, \n",
    "    separated by spaces\n",
    "    \"\"\"\n",
    "    sentence = \"\"\n",
    "    for i in range(n_words):\n",
    "        sentence += randomword(word_length) + \" \"\n",
    "    return sentence\n",
    "\n",
    "def preprocess_timer(max_words, runs, function):\n",
    "    \"\"\"\n",
    "    Times the preprocessing part of the sentence finder algorithm.\n",
    "    \"\"\"\n",
    "    all_seconds = []\n",
    "\n",
    "    for i in tqdm(range(1, max_words, 20)):\n",
    "        text = random_sentence(i, 10)\n",
    "        seconds = 0\n",
    "        for j in range(runs):\n",
    "            start = time.time()\n",
    "            subwords = function(text)\n",
    "            end = time.time()\n",
    "            seconds += (end - start)\n",
    "        all_seconds.append(seconds/runs)\n",
    "    return all_seconds"
   ]
  },
  {
   "cell_type": "code",
   "execution_count": 13,
   "metadata": {
    "ExecuteTime": {
     "end_time": "2021-04-22T13:34:46.221529Z",
     "start_time": "2021-04-22T13:29:56.737820Z"
    }
   },
   "outputs": [
    {
     "name": "stderr",
     "output_type": "stream",
     "text": [
      "100%|████████████████████████████████████████████████████████████████████████████████████| 8/8 [03:38<00:00, 27.33s/it]\n",
      "100%|████████████████████████████████████████████████████████████████████████████████████| 8/8 [01:10<00:00,  8.85s/it]\n"
     ]
    }
   ],
   "source": [
    "max_words = 160\n",
    "runs = 50\n",
    "all_seconds_hash = preprocess_timer(max_words, runs, hash_preprocess)\n",
    "all_seconds_trie = preprocess_timer(max_words, runs, trie_preprocess)"
   ]
  },
  {
   "cell_type": "code",
   "execution_count": 14,
   "metadata": {
    "ExecuteTime": {
     "end_time": "2021-04-22T13:34:46.534691Z",
     "start_time": "2021-04-22T13:34:46.224525Z"
    }
   },
   "outputs": [
    {
     "data": {
      "text/plain": [
       "<matplotlib.legend.Legend at 0x2bc62a39048>"
      ]
     },
     "execution_count": 14,
     "metadata": {},
     "output_type": "execute_result"
    },
    {
     "data": {
      "image/png": "[encoded data removed]",
      "text/plain": [
       "<Figure size 432x288 with 1 Axes>"
      ]
     },
     "metadata": {
      "needs_background": "light"
     },
     "output_type": "display_data"
    }
   ],
   "source": [
    "plt.plot([i*20 for i in range(len(all_seconds_hash))], all_seconds_hash, label = \"Hash\")\n",
    "plt.plot([i*20 for i in range(len(all_seconds_trie))], all_seconds_trie, label = \"Trie tree\")\n",
    "plt.title(\"Assymptotic running time of preprocess\")\n",
    "plt.ylabel(\"Time (s)\")\n",
    "plt.xlabel(\"Number of words in the text\")\n",
    "plt.legend()"
   ]
  },
  {
   "cell_type": "markdown",
   "metadata": {},
   "source": [
    "##### Lookup"
   ]
  },
  {
   "cell_type": "code",
   "execution_count": 15,
   "metadata": {
    "ExecuteTime": {
     "end_time": "2021-04-22T13:34:46.550650Z",
     "start_time": "2021-04-22T13:34:46.538683Z"
    }
   },
   "outputs": [],
   "source": [
    "def lookup_timer(max_length, runs, pre_function, function, input_ = None, word_length = 50):\n",
    "    \"\"\"\n",
    "    Times the lookup part of the sentence finder algorithm.\n",
    "    \"\"\"\n",
    "    # text with words of varying lengths\n",
    "    text = random_sentence(max_length, word_length)\n",
    "    \n",
    "    subwords = pre_function(text)\n",
    "    \n",
    "    # Ability to define custom text input\n",
    "    if input_:\n",
    "        text = input_\n",
    "    \n",
    "    text_lst = text.split()\n",
    "    \n",
    "    all_seconds_lookup = []\n",
    "    for i in tqdm(range(1, len(text_lst), 5)):\n",
    "        seconds = 0\n",
    "        for j in range(runs):\n",
    "            start = time.time()\n",
    "            #print(\" \".join(text_lst[:i]))\n",
    "            function(subwords, \" \".join(text_lst[:i]))\n",
    "            end = time.time()\n",
    "            seconds += (end - start)\n",
    "        all_seconds_lookup.append(seconds/runs)\n",
    "    return all_seconds_lookup\n"
   ]
  },
  {
   "cell_type": "code",
   "execution_count": 16,
   "metadata": {
    "ExecuteTime": {
     "end_time": "2021-04-22T13:35:13.447336Z",
     "start_time": "2021-04-22T13:34:46.555635Z"
    }
   },
   "outputs": [
    {
     "name": "stderr",
     "output_type": "stream",
     "text": [
      "100%|██████████████████████████████████████████████████████████████████████████████████| 20/20 [00:08<00:00,  2.31it/s]\n",
      "100%|██████████████████████████████████████████████████████████████████████████████████| 20/20 [00:10<00:00,  1.94it/s]\n"
     ]
    }
   ],
   "source": [
    "max_length = 100\n",
    "runs = 100\n",
    "all_seconds_f_hash = lookup_timer(max_length, runs, hash_preprocess, hash_sentence_finder)\n",
    "all_seconds_f_trie = lookup_timer(max_length, runs, trie_preprocess, trie_sentence_finder)"
   ]
  },
  {
   "cell_type": "code",
   "execution_count": 17,
   "metadata": {
    "ExecuteTime": {
     "end_time": "2021-04-22T13:35:13.664101Z",
     "start_time": "2021-04-22T13:35:13.449337Z"
    }
   },
   "outputs": [
    {
     "data": {
      "text/plain": [
       "<matplotlib.legend.Legend at 0x2bc62044080>"
      ]
     },
     "execution_count": 17,
     "metadata": {},
     "output_type": "execute_result"
    },
    {
     "data": {
      "image/png": "[encoded data removed]",
      "text/plain": [
       "<Figure size 432x288 with 1 Axes>"
      ]
     },
     "metadata": {
      "needs_background": "light"
     },
     "output_type": "display_data"
    }
   ],
   "source": [
    "plt.plot([i for i in range(len(all_seconds_f_hash))], all_seconds_f_hash, label = \"Hash\")\n",
    "plt.plot([i for i in range(len(all_seconds_f_trie))], all_seconds_f_trie, label = \"Trie tree\")\n",
    "plt.title(\"Assymptotic running time of lookup of sentence present in text.\")\n",
    "plt.ylabel(\"Time (s)\")\n",
    "plt.xlabel(\"Sentence length (hundreds)\")\n",
    "plt.legend()"
   ]
  },
  {
   "cell_type": "code",
   "execution_count": 18,
   "metadata": {
    "ExecuteTime": {
     "end_time": "2021-04-22T13:35:22.760419Z",
     "start_time": "2021-04-22T13:35:13.672079Z"
    }
   },
   "outputs": [
    {
     "name": "stderr",
     "output_type": "stream",
     "text": [
      "100%|██████████████████████████████████████████████████████████████████████████████████| 20/20 [00:08<00:00,  2.48it/s]\n"
     ]
    }
   ],
   "source": [
    "max_length = 100\n",
    "word_length = 50\n",
    "runs = 100\n",
    "text = random_sentence(max_length, word_length)\n",
    "#all_seconds_f_hash = lookup_timer(max_length, runs, hash_preprocess, hash_sentence_finder, input_ = text)\n",
    "all_seconds_f_trie = lookup_timer(max_length, runs, trie_preprocess, trie_sentence_finder, input_ = text)"
   ]
  },
  {
   "cell_type": "code",
   "execution_count": 19,
   "metadata": {
    "ExecuteTime": {
     "end_time": "2021-04-22T13:35:22.992002Z",
     "start_time": "2021-04-22T13:35:22.763411Z"
    }
   },
   "outputs": [
    {
     "data": {
      "text/plain": [
       "<matplotlib.legend.Legend at 0x2bc5eb6c198>"
      ]
     },
     "execution_count": 19,
     "metadata": {},
     "output_type": "execute_result"
    },
    {
     "data": {
      "image/png": "[encoded data removed]",
      "text/plain": [
       "<Figure size 432x288 with 1 Axes>"
      ]
     },
     "metadata": {
      "needs_background": "light"
     },
     "output_type": "display_data"
    }
   ],
   "source": [
    "plt.plot([i for i in range(len(all_seconds_f_hash))], all_seconds_f_hash, label = \"Hash\")\n",
    "plt.plot([i for i in range(len(all_seconds_f_trie))], all_seconds_f_trie, label = \"Trie tree\")\n",
    "plt.title(\"Assymptotic running time of lookup of sentence not present in text.\")\n",
    "plt.ylabel(\"Time (s)\")\n",
    "plt.xlabel(\"Sentence length (hundreds)\")\n",
    "plt.legend()"
   ]
  },
  {
   "cell_type": "markdown",
   "metadata": {},
   "source": [
    "In agreement with our analytical investigation of the assymptotic runtime, both function increase linearly with the length of the sentence being looked up."
   ]
  },
  {
   "cell_type": "markdown",
   "metadata": {},
   "source": [
    "## Conclusion\n",
    "\n",
    "It seems like the trie trees can be a good substitution for a naive implementation of hash tables. I say naive because there are much smarter algorithms out there that can preprocess and lookup long texts much faster, such as rolling hashing. In our implementation, trie trees performed asymptotically better in the preprocessing part and just as good in the lookup time, compared to hash tables. The space complexity is also better, since we only need to store N sentences, while the hash table requires N*(N+1)/2. \n",
    "\n",
    "Additionally, the trie trees have other interesting capabilities, such as quickly printing the words in alphabetical order, and storing which words are used most in the text, which can be useful to build something like an autocomplete or even a sentence predictor. In the next cell, I try to demonstrate a few of these capabilities."
   ]
  },
  {
   "cell_type": "code",
   "execution_count": 20,
   "metadata": {
    "ExecuteTime": {
     "end_time": "2021-04-22T13:35:23.071557Z",
     "start_time": "2021-04-22T13:35:22.997987Z"
    }
   },
   "outputs": [],
   "source": [
    "import random\n",
    "\n",
    "def preprocess2(text):\n",
    "    \"\"\"\n",
    "    Returns a list of just the words in the text, without special characters.\n",
    "    \"\"\"\n",
    "    bad_chars = [\n",
    "        ';', ',', '.', '?', '!', '_',\n",
    "        '[', ']', ':', '“', '”', '\"', '–', '-', \"(\", \")\"\n",
    "    ]\n",
    "    just_text = ''.join(c for c in text if c not in bad_chars)\n",
    "    without_newlines = ''.join(c if (c not in ['\\n', '\\r', '\\t']) else \" \"\n",
    "                               for c in just_text)\n",
    "    just_text = ''.join(c for c in without_newlines if c not in bad_chars)\n",
    "    just_words = [word for word in just_text.split(\" \") if word != \"\"]\n",
    "    \n",
    "    return just_words\n",
    "\n",
    "\n",
    "\n",
    "class Node:\n",
    "    \"\"\"This class represents one node of a trie tree.\n",
    "    \n",
    "    Parameters\n",
    "    ----------\n",
    "    \n",
    "    char: str\n",
    "        the character stored in the node\n",
    "    children: list\n",
    "        the children nodes\n",
    "    end_of_word : boolean\n",
    "        signals if the node is at the end of a word\n",
    "    \"\"\"\n",
    "    def __init__(self, char=None, parent=None):\n",
    "        self.char = char  # character stored in the node\n",
    "        self.children = []  # list containing the children nodes\n",
    "        self.end_of_word = False  # signal if node is the end of a valid word\n",
    "        self.beg_of_word = False # # signal if node is the beginning of a valid word\n",
    "        self.reps = 0 # how many times the word occurs\n",
    "\n",
    "\n",
    "class Trie:\n",
    "    \"\"\"This class represents the entirety of a trie tree.\n",
    "    \n",
    "    Parameters\n",
    "    ----------\n",
    "    The parameters for Trie's __init__ are not predetermined.\n",
    "    However, you will likely need one or more of them.    \n",
    "    \n",
    "    Methods\n",
    "    -------\n",
    "    insert(self, word)\n",
    "        Inserts a word into the trie, creating nodes as required.\n",
    "    lookup(self, word)\n",
    "        Determines whether a given word is present in the trie.\n",
    "    \"\"\"\n",
    "    def __init__(self, words_list=None):\n",
    "        \"\"\"Creates the Trie instance, inserts initial words if provided.\n",
    "        \n",
    "        Parameters\n",
    "        ----------\n",
    "        word_list : list\n",
    "            List of strings to be inserted into the trie upon creation.\n",
    "        \"\"\"\n",
    "        self.root = Node()  # creates an empty root\n",
    "        \n",
    "        if words_list:\n",
    "            for words in words_list:\n",
    "                self.insert(words)\n",
    "    \n",
    "        \n",
    "    def insert(self, words: str):\n",
    "        \"\"\"Inserts a word into the trie, creating missing nodes on the go.\n",
    "        \n",
    "        Parameters\n",
    "        ----------\n",
    "        word : str\n",
    "            The word to be inserted into the trie.\n",
    "        \"\"\"\n",
    "        cur_node = self.root\n",
    "        for word in words:\n",
    "            word = word.lower()  # convert word to lowercase\n",
    "            for letter in word:\n",
    "                # check is the character is already in the children of current node\n",
    "                is_in_children = False\n",
    "                for child in cur_node.children:\n",
    "\n",
    "                    # if it is, assign the current character to the child containing the character\n",
    "                    if child.char == letter:\n",
    "                        cur_node = child\n",
    "                        is_in_children = True\n",
    "                        break\n",
    "\n",
    "                # if not, create a new child with that character\n",
    "                if is_in_children == False:\n",
    "                    new_node = Node(char=letter, parent=cur_node)\n",
    "                    cur_node.children.append(new_node)\n",
    "                    cur_node.children = sorted(cur_node.children,\n",
    "                                               key=lambda x: x.char)\n",
    "                    cur_node = new_node\n",
    "        \n",
    "            cur_node.reps += 1 # adds oe to te number of occurences of the word\n",
    "            cur_node.end_of_word = True  # signal that this is the last node of a complete word\n",
    "\n",
    "    def lookup(self, word: str):\n",
    "        \"\"\"Determines whether a given word is present in the trie.\n",
    "        \n",
    "        Parameters\n",
    "        ----------\n",
    "        word : str\n",
    "            The word to be looked-up in the trie.\n",
    "            \n",
    "        Returns\n",
    "        -------\n",
    "        bool\n",
    "            True if the word is present in trie; False otherwise.\n",
    "            \n",
    "        Notes\n",
    "        -----\n",
    "        Your trie should ignore whether a word is capitalized.\n",
    "        E.g. trie.insert('Prague') should lead to trie.lookup('prague') = True\n",
    "        \"\"\"\n",
    "        word = preprocess(word)\n",
    "        word = word.lower()\n",
    "        cur_node = self.root \n",
    "        for letter in word: \n",
    "            \n",
    "            # check if the character is already in the children of current node\n",
    "            is_in_children = False\n",
    "            for child in cur_node.children:\n",
    "                # if it is, assign the current node to the child containing the character\n",
    "                if child.char == letter:\n",
    "                    cur_node = child\n",
    "                    is_in_children = True\n",
    "            # if not, return false\n",
    "            if is_in_children == False:\n",
    "                return False\n",
    "        \n",
    "        # returns False if the word is just a prefix, returns True if it's a valid word\n",
    "        return cur_node.end_of_word \n",
    "\n",
    "    \n",
    "        \n",
    "    def make_heap(self, cur_node=None, word=None, heap_words=None, new_word = False):\n",
    "        '''\n",
    "        Auxiliary function for k_most_common() and autocomplete(). \n",
    "        \n",
    "        Works the same as alphabet_list, but creates a heap of words instead of a list.\n",
    "        '''\n",
    "        import heapq\n",
    "        \n",
    "        # initializing arguments\n",
    "        if heap_words == None:\n",
    "            heap_words = [] # a heap\n",
    "        if word == None:\n",
    "            word = ''\n",
    "        if cur_node == None:\n",
    "            cur_node = self.root\n",
    "\n",
    "        if cur_node.children != []:  # base case, this is a leaf node\n",
    "\n",
    "            # for each children\n",
    "            if new_word == True:\n",
    "                available_children = [child for child in cur_node.children if child.char == \" \"]\n",
    "                new_word = False\n",
    "            else:\n",
    "                available_children = cur_node.children\n",
    "                \n",
    "            for node in available_children:\n",
    "                # if the node is the end of a word, add the word to the list\n",
    "                    \n",
    "                if node.end_of_word == True:\n",
    "                    \n",
    "                    \n",
    "                    complete_word = word + node.char\n",
    "                    \n",
    "                    heapq.heappush(heap_words, (-node.reps, complete_word))\n",
    "                    return heap_words# return to avoid adding longer sentences unnecessarily \n",
    "                \n",
    "                # call the function recursively on the current node\n",
    "                \n",
    "                # this is to avoid including spaces twice.\n",
    "                if node.char != \" \":\n",
    "                    self.make_heap(cur_node=node,\n",
    "                                       word=word + node.char,\n",
    "                                       heap_words=heap_words, new_word = new_word)\n",
    "                else:\n",
    "                    self.make_heap(cur_node=node,\n",
    "                                       word=word,\n",
    "                                       heap_words=heap_words, new_word = new_word)\n",
    "                \n",
    "        heapq.heappush(heap_words, (0, \"\"))\n",
    "        return heap_words\n",
    "        \n",
    "\n",
    "    def autocomplete(self, prefix):\n",
    "        \"\"\"Finds the most common word with the given prefix.\n",
    "\n",
    "        You might want to reuse some functionality or ideas from Q4.\n",
    "\n",
    "        Parameters\n",
    "        ----------\n",
    "        prefix : str\n",
    "            The word part to be “autocompleted”.\n",
    "\n",
    "        Returns\n",
    "        ----------\n",
    "        str\n",
    "            The complete, most common word with the given prefix.\n",
    "\n",
    "        Notes\n",
    "        ----------\n",
    "        The return value is equal to prefix if there is no valid word in the trie.\n",
    "        The return value is also equal to prefix if prefix is the most common word.\n",
    "        \"\"\"\n",
    "        import heapq\n",
    "\n",
    "        word = prefix.lower()\n",
    "        cur_node = self.root\n",
    "        for letter in word:\n",
    "\n",
    "            # check is the character is already in the children of current node\n",
    "            is_in_children = False\n",
    "            for child in cur_node.children:\n",
    "\n",
    "                # if it is, assign the current character to the child containing the character\n",
    "                if child.char == letter:\n",
    "                    cur_node = child\n",
    "                    is_in_children = True\n",
    "                    break\n",
    "\n",
    "            # if not, return the prefix\n",
    "            if is_in_children == False:\n",
    "                return prefix\n",
    "\n",
    "\n",
    "        # makes heap of words with auxiliary function\n",
    "        heap_words = self.make_heap(cur_node = cur_node, word = prefix)\n",
    "        heapq.heappush(heap_words,(-cur_node.reps, prefix) )\n",
    "        return heapq.heappop(heap_words)[1]\n",
    "    \n",
    "    def autocomplete_sentence(self, prefix, full = True):\n",
    "        \"\"\"\n",
    "        Finds the most common next word given a sentence fragment\n",
    "\n",
    "        Parameters\n",
    "        ----------\n",
    "        prefix : str\n",
    "            The word part to be “autocompleted”.\n",
    "\n",
    "        Returns\n",
    "        ----------\n",
    "        str\n",
    "            The complete, most common word with the given prefix.\n",
    "            \n",
    "        Notes\n",
    "        ----------\n",
    "        The return value is equal to prefix if there is no valid word in the trie.\n",
    "        The return value is also equal to prefix if prefix is the most common word.\n",
    "        \"\"\"\n",
    "        import heapq\n",
    "        word = preprocess(prefix)\n",
    "        word = word.lower()\n",
    "        cur_node = self.root\n",
    "        \n",
    "        \n",
    "        # rest of word\n",
    "        for letter in word:\n",
    "\n",
    "            # check is the character is already in the children of current node\n",
    "            is_in_children = False\n",
    "            for child in cur_node.children:\n",
    "                \n",
    "                # if it is, assign the current character to the child containing the character\n",
    "                if child.char == letter:\n",
    "                    cur_node = child\n",
    "                    is_in_children = True\n",
    "                    break\n",
    "\n",
    "            # if not, return the prefix\n",
    "            if is_in_children == False:\n",
    "                if full:\n",
    "                    return prefix\n",
    "                else:\n",
    "                    return None\n",
    "        \n",
    "        # makes heap of words with auxiliary function\n",
    "        heap_words = self.make_heap(cur_node = cur_node, new_word=True)\n",
    "        #print(heap_words)\n",
    "        #heapq.heappush(heap_words,(-cur_node.reps, prefix) )\n",
    "        result = heapq.heappop(heap_words)[1]\n",
    "        if full:\n",
    "            return prefix + \" \" + result\n",
    "        else:\n",
    "            return result\n",
    "    \n",
    "    \n",
    "    def fill_sentence(self, prefix, k = 10, randomize = False):\n",
    "        \"\"\"\n",
    "        Continuously predicts how a sentence would be continued based on the beginning.\n",
    "        It starts by using autocomplete on the full sentence. If it can't, removes\n",
    "        the first word and tries again, until if finds a sentence prefix that is present in the\n",
    "        text. \n",
    "        Then, continuously predicts the next word for a specified amount of words.\n",
    "\n",
    "        Parameters\n",
    "        ----------\n",
    "        prefix : str\n",
    "            The sentence fragment to be “autocompleted”.\n",
    "        k : int\n",
    "            How many words to predict\n",
    "\n",
    "        Returns\n",
    "        ----------\n",
    "        sentence : str\n",
    "            The predicted sentence\n",
    "            \n",
    "        Notes\n",
    "        ----------\n",
    "        The return value is equal to sentence fragment if the last word is not in the text.\n",
    "        \"\"\"\n",
    "        cur_index = 0\n",
    "        # Turn sentence fragment into a list of words\n",
    "        prefix_lst = preprocess2(prefix)\n",
    "        #cut_prefix = preprocess2(prefix[cur_index:])\n",
    "        \n",
    "        # makes sure the last word is not incomplete\n",
    "        prefix_lst[-1] = self.autocomplete(prefix_lst[-1])\n",
    "        \n",
    "        words_added = 0\n",
    "        # stops if the last word is not in the text\n",
    "        while cur_index < len(prefix_lst) and words_added < k:            \n",
    "            \n",
    "            # attempts to autocomplete the text\n",
    "            cut_prefix = \" \".join(prefix_lst[cur_index:]) \n",
    "\n",
    "            next_word = self.autocomplete_sentence(cut_prefix, full = False)\n",
    "   \n",
    "            # if it found a next word\n",
    "            if next_word:\n",
    "                # append it to the list of words\n",
    "                prefix_lst.append(next_word)\n",
    "                words_added += 1\n",
    "                \n",
    "                # this makes the prediction not always be the most common next word\n",
    "                if randomize:\n",
    "                    cur_index += random.randint(0, max((len(prefix_lst[cur_index:]) - 2), 1))\n",
    "                    \n",
    "            # if it didn't\n",
    "            else:\n",
    "                # try again removing the first word of the list\n",
    "                cur_index += 1\n",
    "                \n",
    "            #print(prefix_lst)\n",
    "                \n",
    "        return \" \".join(prefix_lst)"
   ]
  },
  {
   "cell_type": "markdown",
   "metadata": {},
   "source": [
    "## Sentence Predictor\n",
    "\n",
    "### Motivation\n",
    "\n",
    "I want to find a way to predict how a person would complete a sentence. There are highly sophisticated models out there that using artificial intelligence and machine learning to make extremely accurate predictions. However, those technologies are outside the scope of this assignment and I want to use the structure of the trie trees I already built. When thinking about alternatives strategies for the predictor, I realized I could simply increment the autocomplete we already built and autocomplete sentences. I took inspiration from the autocomplete in Google Keyboard, which is not only an autocomplete. Sure, it can finish a word based on the most common words in English and on the user's past texts,  but it also predicts and suggests the next word based on what the user has already written. \n",
    "\n",
    "I started writing the code and I realized there are some features Google has that would be difficult to implement. For example, Google has a database of all English words, so the algorithm can predict even if the user has never written the word before. So, I simplified it so only words the person already said would be suggested. I also added the ability to feed the algorithm with any text, so that it switches the prediction according to the text fed.\n",
    "\n",
    "\n",
    "#### How it works:\n",
    "The first part of the algorithm simply stores the text fed to it and finds the word that most frequently followed a sentence beginning. For example, is the text fed is \"This is a text, this is a word, this is not a picture\". And we asked it to complete \"This is\", the algorithm would return \"This is a\", because \"a\" is the words the most commonly follows the fragment provided. Based on the prediction of the next word, we can continuously predict entire sentences, by adding one word at a time.\n",
    "\n"
   ]
  },
  {
   "cell_type": "code",
   "execution_count": 21,
   "metadata": {
    "ExecuteTime": {
     "end_time": "2021-04-22T13:35:23.304475Z",
     "start_time": "2021-04-22T13:35:23.075554Z"
    }
   },
   "outputs": [],
   "source": [
    "text = \"This is a text, this is a word, this is not a picture\"\n",
    "trie = Trie(preprocess3(text, size = 5)) # instead of processing the entire text,\n",
    "                                         # we only store sentences of 5 words or less\n",
    "\n",
    "assert trie.autocomplete_sentence(\"This is\") == \"This is a\" # next most common word\n",
    "assert trie.autocomplete_sentence(\"THis is??\") == \"THis is?? a\"  # ignores special characters and capitalization, \n",
    "                                                                   # but returns it in the text\n",
    "assert trie.autocomplete_sentence(\"this is a sentence\") == \"this is a sentence\" # not found"
   ]
  },
  {
   "cell_type": "markdown",
   "metadata": {},
   "source": [
    "To avoid errors, the algorithm first autocompletes the last word of the fragment provided before predicting the next word. To complete full sentences, it starts by looking up the entire fragment in the text. If the search in unsuccesful, we remove the first word and try again, until we tried all fragments up to the last word. For example, if the text fed is \"This is a text, this is a word, this is not a picture\" and we tried to predict \"I know this i\", the algorithm would first autocomplete \"i\", so the sentence becomes \"I know this is\". Then, it would lookup \"I know this is\" and fail. Then, it would lookup \"know this is\" and fail. Then, it would lookup \"this is\" and succeed, predicting that the next word is \"a\". The sentence returned would then be \"I know this is a\". "
   ]
  },
  {
   "cell_type": "code",
   "execution_count": 22,
   "metadata": {
    "ExecuteTime": {
     "end_time": "2021-04-22T13:35:23.335358Z",
     "start_time": "2021-04-22T13:35:23.308428Z"
    }
   },
   "outputs": [],
   "source": [
    "assert trie.fill_sentence(\"This is\", k = 2) == \"This is a text\" # predict the two next words\n",
    "assert trie.fill_sentence(\"THis is??\", k = 2) == \"THis is a text\"  # ignores special characters and capitalization, \n",
    "                                                                   # but returns only capitalization in the text\n",
    "assert trie.fill_sentence(\"this is a sentence\") == \"this is a sentence\" # not found, last word not in the text\n",
    "assert trie.fill_sentence(\"I know this i\", k = 2) == \"I know this is a text\" # autocompletes and ignores beginning"
   ]
  },
  {
   "cell_type": "markdown",
   "metadata": {},
   "source": [
    "### Test case\n",
    "How would Sherlock Holmes, Winston Churchill, and Greta Thunberg complete the sentence \"My favorite thing is\"? Let's find out!"
   ]
  },
  {
   "cell_type": "code",
   "execution_count": 23,
   "metadata": {
    "ExecuteTime": {
     "end_time": "2021-04-22T13:35:23.398574Z",
     "start_time": "2021-04-22T13:35:23.338348Z"
    }
   },
   "outputs": [],
   "source": [
    "from requests import get\n",
    "#SH_full = get('http://bit.ly/CS110-Shakespeare').text\n",
    "bohemian_rhapsody = open(\"Bohemian Rhapsody.txt\", 'r').read() # Bohemian Rhapsody, by Queen\n",
    "sherlock = open(\"Sherlock.txt\", 'r', encoding = 'utf-8').read() # \"A Study in Pink\", by Sir Arthur Conan Doyle\n",
    "churchill =  open(\"Churchill.txt\", 'r', encoding = 'utf-8').read() # “Their Finest Hour” by Winston Churchill June 18, 1940\n"
   ]
  },
  {
   "cell_type": "code",
   "execution_count": 24,
   "metadata": {
    "ExecuteTime": {
     "end_time": "2021-04-22T13:35:29.392663Z",
     "start_time": "2021-04-22T13:35:23.400575Z"
    }
   },
   "outputs": [],
   "source": [
    "#sherlock = preprocess3(sherlock, size = 3)\n",
    "trie_thunberg = Trie(preprocess3(thunberg, size = 5))\n",
    "trie_sherlock = Trie(preprocess3(sherlock, size = 5))\n",
    "trie_churchill = Trie(preprocess3(churchill, size = 5))"
   ]
  },
  {
   "cell_type": "code",
   "execution_count": 25,
   "metadata": {
    "ExecuteTime": {
     "end_time": "2021-04-22T13:35:29.409055Z",
     "start_time": "2021-04-22T13:35:29.395566Z"
    }
   },
   "outputs": [],
   "source": [
    "assert trie_sherlock.fill_sentence(\"My favorite thing is\", k =5) == \"My favorite thing is a chain of logical sequences\"\n",
    "assert trie_churchill.fill_sentence(\"My favorite thing is\", k = 3) == \"My favorite thing is a general curiosity\"\n",
    "assert trie_thunberg.fill_sentence(\"My favorite thing is\", k=2) == \"My favorite thing is all wrong\""
   ]
  },
  {
   "cell_type": "markdown",
   "metadata": {},
   "source": [
    "## Bonus implementation!"
   ]
  },
  {
   "cell_type": "markdown",
   "metadata": {},
   "source": [
    "Do you have a half formed thought but still want to have a consistent presence on social media? Say no more! With the AutocomTweet 2.0 you can let your favorite media personality complete your idea for you! We analyze over 3000 tweets of each user and make suggestions based on what they have said in the past. And the best thing is each tweet is slightly randomized run the algorithm over and over until you find the perfect catch-phrase."
   ]
  },
  {
   "cell_type": "code",
   "execution_count": 26,
   "metadata": {
    "ExecuteTime": {
     "end_time": "2021-04-22T13:35:29.579665Z",
     "start_time": "2021-04-22T13:35:29.416030Z"
    }
   },
   "outputs": [],
   "source": [
    "# Code to get tweets adapted from https://gist.github.com/yanofsky/5436496\n",
    "\n",
    "import tweepy #https://github.com/tweepy/tweepy\n",
    "import csv\n",
    "\n",
    "#Twitter API credentials\n",
    "consumer_key = \"0ji66TVZAvPLXsrvj44ljA9J3\"\n",
    "consumer_secret = \"GlV6wfiPV6niaGRt63KkbzFP7qUV0ZCT99XkE6ilqRCRa1kd8p\"\n",
    "access_key = \"517943103-TPQJ7m0SHTWRsLslIMU5PvaoXpSPYycjhUC9xqxw\"\n",
    "access_secret = \"Gk2ffzp8Avt7r5X5VSzX19l1k831FdzPsYBLdX2fQnIq0\"\n",
    "\n",
    "\n",
    "def get_all_tweets(screen_name):\n",
    "    #Twitter only allows access to a users most recent 3240 tweets with this method\n",
    "    \n",
    "    #authorize twitter, initialize tweepy\n",
    "    auth = tweepy.OAuthHandler(consumer_key, consumer_secret)\n",
    "    auth.set_access_token(access_key, access_secret)\n",
    "    api = tweepy.API(auth)\n",
    "    \n",
    "    #initialize a list to hold all the tweepy Tweets\n",
    "    alltweets = []  \n",
    "    \n",
    "    #make initial request for most recent tweets (200 is the maximum allowed count)\n",
    "    new_tweets = api.user_timeline(screen_name = screen_name,count=200)\n",
    "    \n",
    "    #save most recent tweets\n",
    "    alltweets.extend(new_tweets)\n",
    "    \n",
    "    #save the id of the oldest tweet less one\n",
    "    oldest = alltweets[-1].id - 1\n",
    "    \n",
    "    #keep grabbing tweets until there are no tweets left to grab\n",
    "    while len(new_tweets) > 0:\n",
    "        print(f\"getting tweets before {oldest}\")\n",
    "        \n",
    "        #all subsiquent requests use the max_id param to prevent duplicates\n",
    "        new_tweets = api.user_timeline(screen_name = screen_name,count=200,max_id=oldest)\n",
    "        \n",
    "        #save most recent tweets\n",
    "        alltweets.extend(new_tweets)\n",
    "        \n",
    "        #update the id of the oldest tweet less one\n",
    "        oldest = alltweets[-1].id - 1\n",
    "        \n",
    "        print(f\"...{len(alltweets)} tweets downloaded so far\")\n",
    "    \n",
    "    #transform the tweepy tweets into a list \n",
    "    outtweets = [tweet.text for tweet in alltweets]\n",
    "    \n",
    "    return outtweets\n",
    "    #write the csv  \n",
    "    #with open(f'new_{screen_name}_tweets.csv', 'w') as f:\n",
    "     #   writer = csv.writer(f)\n",
    "     #   writer.writerow([\"id\",\"created_at\",\"text\"])\n",
    "     #   writer.writerows(outtweets)\n",
    "    \n",
    "def tweet_tree(username):\n",
    "    tweets = get_all_tweets(username)\n",
    "    print(\"Creating tweet tree\")\n",
    "    trie = Trie()\n",
    "    for tweet in tqdm(tweets):\n",
    "        processed = preprocess3(tweet, size = 8)\n",
    "        for i in processed:\n",
    "            trie.insert(i)\n",
    "    return trie"
   ]
  },
  {
   "cell_type": "markdown",
   "metadata": {},
   "source": [
    "### Test with climate change\n",
    "\n",
    "What do our leaders say about climate change? Let's check! I will collect President Biden, Barack Obama, Greta Thunberg, and Ted Cruz's tweets and let the algorithm complete the sentence \"Climate change is...\"."
   ]
  },
  {
   "cell_type": "code",
   "execution_count": 27,
   "metadata": {
    "ExecuteTime": {
     "end_time": "2021-04-22T13:39:27.015613Z",
     "start_time": "2021-04-22T13:35:29.581659Z"
    }
   },
   "outputs": [
    {
     "name": "stdout",
     "output_type": "stream",
     "text": [
      "getting tweets before 1348636095458717695\n",
      "...400 tweets downloaded so far\n",
      "getting tweets before 1335014774472663042\n",
      "...600 tweets downloaded so far\n",
      "getting tweets before 1323698268551942144\n",
      "...800 tweets downloaded so far\n",
      "getting tweets before 1321900863351238658\n",
      "...1000 tweets downloaded so far\n",
      "getting tweets before 1318322534937395199\n",
      "...1200 tweets downloaded so far\n",
      "getting tweets before 1314017178258223109\n",
      "...1400 tweets downloaded so far\n",
      "getting tweets before 1309561053487955967\n",
      "...1600 tweets downloaded so far\n",
      "getting tweets before 1301923209969836034\n",
      "...1800 tweets downloaded so far\n",
      "getting tweets before 1296083244694216703\n",
      "...2000 tweets downloaded so far\n",
      "getting tweets before 1289195358518738949\n",
      "...2200 tweets downloaded so far\n",
      "getting tweets before 1279565656120229888\n",
      "...2400 tweets downloaded so far\n",
      "getting tweets before 1269688626344058880\n",
      "...2600 tweets downloaded so far\n",
      "getting tweets before 1260717021840445451\n",
      "...2800 tweets downloaded so far\n",
      "getting tweets before 1252950280708055039\n",
      "...3000 tweets downloaded so far\n",
      "getting tweets before 1244381820797489151\n",
      "...3200 tweets downloaded so far\n",
      "getting tweets before 1237151428201897984\n",
      "...3250 tweets downloaded so far\n",
      "getting tweets before 1235297357648015360\n"
     ]
    },
    {
     "name": "stderr",
     "output_type": "stream",
     "text": [
      "  4%|███                                                                           | 127/3250 [00:00<00:04, 655.42it/s]"
     ]
    },
    {
     "name": "stdout",
     "output_type": "stream",
     "text": [
      "...3250 tweets downloaded so far\n",
      "Creating tweet tree\n"
     ]
    },
    {
     "name": "stderr",
     "output_type": "stream",
     "text": [
      "100%|█████████████████████████████████████████████████████████████████████████████| 3250/3250 [00:27<00:00, 118.86it/s]\n"
     ]
    },
    {
     "name": "stdout",
     "output_type": "stream",
     "text": [
      "getting tweets before 1318265822310240255\n",
      "...400 tweets downloaded so far\n",
      "getting tweets before 1247997223360704511\n",
      "...600 tweets downloaded so far\n",
      "getting tweets before 1104011700724994048\n",
      "...800 tweets downloaded so far\n",
      "getting tweets before 792045944384749568\n",
      "...1000 tweets downloaded so far\n",
      "getting tweets before 768546585735114751\n",
      "...1200 tweets downloaded so far\n",
      "getting tweets before 742063124597997567\n",
      "...1400 tweets downloaded so far\n",
      "getting tweets before 719912026177347583\n",
      "...1600 tweets downloaded so far\n",
      "getting tweets before 697829799344013312\n",
      "...1800 tweets downloaded so far\n",
      "getting tweets before 684442488874995711\n",
      "...2000 tweets downloaded so far\n",
      "getting tweets before 662677879281467391\n",
      "...2200 tweets downloaded so far\n",
      "getting tweets before 641359810932289535\n",
      "...2400 tweets downloaded so far\n",
      "getting tweets before 623164927889403903\n",
      "...2600 tweets downloaded so far\n",
      "getting tweets before 613484639840178175\n",
      "...2800 tweets downloaded so far\n",
      "getting tweets before 591667766723096575\n",
      "...3000 tweets downloaded so far\n",
      "getting tweets before 575358846841061375\n",
      "...3199 tweets downloaded so far\n",
      "getting tweets before 557725758584786944\n",
      "...3249 tweets downloaded so far\n",
      "getting tweets before 554693745694617599\n",
      "...3249 tweets downloaded so far\n",
      "Creating tweet tree\n"
     ]
    },
    {
     "name": "stderr",
     "output_type": "stream",
     "text": [
      "100%|██████████████████████████████████████████████████████████████████████████████| 3249/3249 [00:35<00:00, 91.65it/s]\n"
     ]
    },
    {
     "name": "stdout",
     "output_type": "stream",
     "text": [
      "getting tweets before 1375142065802248192\n",
      "...400 tweets downloaded so far\n",
      "getting tweets before 1367924879283093512\n",
      "...599 tweets downloaded so far\n",
      "getting tweets before 1357734530019393540\n",
      "...799 tweets downloaded so far\n",
      "getting tweets before 1347475441217626111\n",
      "...999 tweets downloaded so far\n",
      "getting tweets before 1335517256512655362\n",
      "...1198 tweets downloaded so far\n",
      "getting tweets before 1320679760331214848\n",
      "...1398 tweets downloaded so far\n",
      "getting tweets before 1310283000798744576\n",
      "...1598 tweets downloaded so far\n",
      "getting tweets before 1307292618490085375\n",
      "...1798 tweets downloaded so far\n",
      "getting tweets before 1300504931909144582\n",
      "...1997 tweets downloaded so far\n",
      "getting tweets before 1291682412196499455\n",
      "...2197 tweets downloaded so far\n",
      "getting tweets before 1283379603961151488\n",
      "...2397 tweets downloaded so far\n",
      "getting tweets before 1266461150545432575\n",
      "...2597 tweets downloaded so far\n",
      "getting tweets before 1248642224289652735\n",
      "...2794 tweets downloaded so far\n",
      "getting tweets before 1235309746598666239\n",
      "...2993 tweets downloaded so far\n",
      "getting tweets before 1227295888386805762\n",
      "...3193 tweets downloaded so far\n",
      "getting tweets before 1216788103437922306\n",
      "...3243 tweets downloaded so far\n",
      "getting tweets before 1214476992055271423\n"
     ]
    },
    {
     "name": "stderr",
     "output_type": "stream",
     "text": [
      "  1%|▊                                                                              | 33/3243 [00:00<00:09, 327.61it/s]"
     ]
    },
    {
     "name": "stdout",
     "output_type": "stream",
     "text": [
      "...3243 tweets downloaded so far\n",
      "Creating tweet tree\n"
     ]
    },
    {
     "name": "stderr",
     "output_type": "stream",
     "text": [
      "100%|██████████████████████████████████████████████████████████████████████████████| 3243/3243 [00:54<00:00, 59.56it/s]\n"
     ]
    },
    {
     "name": "stdout",
     "output_type": "stream",
     "text": [
      "getting tweets before 1377050998011789315\n",
      "...400 tweets downloaded so far\n",
      "getting tweets before 1371523222378844159\n",
      "...600 tweets downloaded so far\n",
      "getting tweets before 1364635168577830911\n",
      "...800 tweets downloaded so far\n",
      "getting tweets before 1356385729056792577\n",
      "...1000 tweets downloaded so far\n",
      "getting tweets before 1343943841729163264\n",
      "...1199 tweets downloaded so far\n",
      "getting tweets before 1331007299205337087\n",
      "...1399 tweets downloaded so far\n",
      "getting tweets before 1320846268298629119\n",
      "...1599 tweets downloaded so far\n",
      "getting tweets before 1316072809702006783\n",
      "...1797 tweets downloaded so far\n",
      "getting tweets before 1309973607523680256\n",
      "...1995 tweets downloaded so far\n",
      "getting tweets before 1303699508124098559\n",
      "...2195 tweets downloaded so far\n",
      "getting tweets before 1296207519052894209\n",
      "...2395 tweets downloaded so far\n",
      "getting tweets before 1288825676058034175\n",
      "...2595 tweets downloaded so far\n",
      "getting tweets before 1283059999934222335\n",
      "...2795 tweets downloaded so far\n",
      "getting tweets before 1274079506374914048\n",
      "...2995 tweets downloaded so far\n",
      "getting tweets before 1267851171827458051\n",
      "...3195 tweets downloaded so far\n",
      "getting tweets before 1260581039698821122\n",
      "...3245 tweets downloaded so far\n",
      "getting tweets before 1258784662601728009\n"
     ]
    },
    {
     "name": "stderr",
     "output_type": "stream",
     "text": [
      "  2%|█▊                                                                             | 75/3245 [00:00<00:04, 737.02it/s]"
     ]
    },
    {
     "name": "stdout",
     "output_type": "stream",
     "text": [
      "...3245 tweets downloaded so far\n",
      "Creating tweet tree\n"
     ]
    },
    {
     "name": "stderr",
     "output_type": "stream",
     "text": [
      "100%|█████████████████████████████████████████████████████████████████████████████| 3245/3245 [00:30<00:00, 104.88it/s]\n"
     ]
    }
   ],
   "source": [
    "trie_biden = tweet_tree(\"@JoeBiden\")\n",
    "trie_obama = tweet_tree(\"@BarackObama\")\n",
    "trie_tweet_thunberg = tweet_tree(\"GretaThunberg\")\n",
    "trie_cruz = tweet_tree(\"@SenTedCruz\")"
   ]
  },
  {
   "cell_type": "code",
   "execution_count": 29,
   "metadata": {
    "ExecuteTime": {
     "end_time": "2021-04-22T13:44:14.574037Z",
     "start_time": "2021-04-22T13:44:14.536139Z"
    }
   },
   "outputs": [
    {
     "name": "stdout",
     "output_type": "stream",
     "text": [
      "\n",
      " Biden says:\n",
      "Climate change is the existential challenge that will defeat donald trump a oneterm president chip in to… https//tco/te24dx7llz\n",
      "\n",
      " Obama says:\n",
      "Climate change is a global problem here's another step towards solving it http//tco/4vaphlcqo4 #actonclimate now a big deal in the weekly address president obama #sotu http//tco/ogchfj3jst\n",
      "\n",
      " Greta says:\n",
      "Climate change is a public health crisis simple as that… https//tco/mwebxushdl\n",
      "\n",
      " Ted Cruz says:\n",
      "Climate change is a dangerous threat to our democracy and free speech and democracy https//tco/mhxatqimgl\n"
     ]
    }
   ],
   "source": [
    "print(\"\\n Biden says:\")\n",
    "print(trie_biden.fill_sentence(\"Climate change is\", k = 30, randomize = True))\n",
    "print(\"\\n Obama says:\")\n",
    "print(trie_obama.fill_sentence(\"Climate change is\", k = 30, randomize = True))\n",
    "print(\"\\n Greta says:\")\n",
    "print(trie_tweet_thunberg.fill_sentence(\"Climate change is\", k = 30, randomize = True))\n",
    "print(\"\\n Ted Cruz says:\")\n",
    "print(trie_cruz.fill_sentence(\"Climate change is\", k = 30, randomize = True))"
   ]
  },
  {
   "cell_type": "markdown",
   "metadata": {},
   "source": [
    "### Other possible implementations\n",
    "\n",
    "The sentence predictor could be used in many ways. For example, with a few adaptations, we can se it to simulate how a person or character would behave in a given scenario. Imagine a world where an author only needs to create dialogue for half of the book and the algorithm predicts what each of them would say for the last half. One interesting application already in practice is the suggestion seen in Google Docs and Gmail. When you start a sentence, sometime it will suggest a way to complete it, based on commonly used sentences and the context of the text. This suggestion slightly increases the speed of typing, and it creates a default option, which can nudge people to type a certain way. Due to lower cognitive effort of simply accepting the suggestion versus thinking of something else to write, and due to the time cost of typing out a different sentence, the default suggestion is more likely to be chosen over its alternatives. \n",
    "\n",
    "These defaults can shape what a person writes and might even determine what is socially acceptable to say or do. For example, imagine texting you friend saying \"I don't know what to do today.\" and the keyboard suggest \" Want to meet me at McDonald's later?\". The default created by the suggestion makes McDonald's the easiest choice for the day and thus nudges you to behave in the way desired by the brand. "
   ]
  },
  {
   "cell_type": "markdown",
   "metadata": {},
   "source": [
    "## HC Appendix and LO Appendix"
   ]
  },
  {
   "cell_type": "markdown",
   "metadata": {},
   "source": [
    "1. #analogies: I analyze Google's autocomplete an discover that it has a feature that could be used as a simple sentence predictor. The fact the algorithm can predict the next word based on a sentence means that if we continuously use the word predicted to predict the next, we can complete full sentences. I search for differences between the target problem and the source problem and adapts my solution accordingly.\n",
    "\n",
    "2. #nudge: I explain how the sentence predictor can be used as a nudge by creating a default option and by making one option easier to choose than the others. I identify the biases involved and explain how they lead to a preference of the suggested sentence.\n",
    "\n",
    "3. #variables: When designing and evaluating my hash implementation of a sentence finder, I identify the variables that determine the time complexity of the algorithm: the hash table size, the number of keys, the method used to calculate the hash value, and how collisions are solved. I identify that there are extraneous variables that could affect performance, such as the distribution of characters in the text or whether the sentence being looked up is present or not in the text and I maintain them constant in my analysis.\n",
    "\n",
    "4. #PythonProgramming: I implement a hash table and a trie tree in Python, demonstrating knowledge of function and classes. I create test cases for my code and document it properly. Additionally, I plot performance metrics.\n",
    "\n",
    "5. #DataStructures: I implement and compare trie trees and hash tables to perform a word search in a document, explaining how each structure works. I justify the selection of the hash table size and function. I compare both data structures in terms of time and space complexity and justify why I think trie trees are a better suited algorithm for this implementation.\n",
    "\n",
    "6. #ComputationalCritique: I extensively investigate the time and space complexity of each data structure, providing both an analytical overview and an empirical demonstration of the asymptotic scaling of the runtimes. Furthermore, I evaluate different hash function and hash table size and justify my choice. I ultimately use my analysis to pick trie trees over hash tables.\n",
    "\n",
    "7. #CodeReadability: I include meaningful comments throughout my work and my variables and functions follow naming conventions."
   ]
  },
  {
   "cell_type": "code",
   "execution_count": null,
   "metadata": {},
   "outputs": [],
   "source": []
  }
 ],
 "metadata": {
  "kernelspec": {
   "display_name": "Python 3.9.12 ('base')",
   "language": "python",
   "name": "python3"
  },
  "language_info": {
   "codemirror_mode": {
    "name": "ipython",
    "version": 3
   },
   "file_extension": ".py",
   "mimetype": "text/x-python",
   "name": "python",
   "nbconvert_exporter": "python",
   "pygments_lexer": "ipython3",
   "version": "3.9.12"
  },
  "vscode": {
   "interpreter": {
    "hash": "8485bf4bb2d61086dc172b0aacfd790f29127f517be6ea87039a95cde055dcdd"
   }
  }
 },
 "nbformat": 4,
 "nbformat_minor": 2
}
